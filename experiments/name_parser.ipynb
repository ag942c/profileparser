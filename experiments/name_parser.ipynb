{
 "cells": [
  {
   "cell_type": "code",
   "execution_count": 14,
   "metadata": {},
   "outputs": [
    {
     "name": "stderr",
     "output_type": "stream",
     "text": [
      "[nltk_data] Downloading package punkt to /home/navneet/nltk_data...\n",
      "[nltk_data]   Package punkt is already up-to-date!\n",
      "[nltk_data] Downloading package averaged_perceptron_tagger to\n",
      "[nltk_data]     /home/navneet/nltk_data...\n",
      "[nltk_data]   Package averaged_perceptron_tagger is already up-to-\n",
      "[nltk_data]       date!\n",
      "[nltk_data] Downloading package maxent_ne_chunker to\n",
      "[nltk_data]     /home/navneet/nltk_data...\n",
      "[nltk_data]   Package maxent_ne_chunker is already up-to-date!\n",
      "[nltk_data] Downloading package words to /home/navneet/nltk_data...\n",
      "[nltk_data]   Package words is already up-to-date!\n"
     ]
    },
    {
     "data": {
      "text/plain": [
       "True"
      ]
     },
     "execution_count": 14,
     "metadata": {},
     "output_type": "execute_result"
    }
   ],
   "source": [
    "import nltk\n",
    "\n",
    "nltk.download(\"punkt\")  # Download sentence tokenizer\n",
    "nltk.download(\"averaged_perceptron_tagger\")  # Download POS tagger (lightweight)\n",
    "nltk.download(\"maxent_ne_chunker\")  # Download chunker for NER\n",
    "nltk.download('words')"
   ]
  },
  {
   "cell_type": "code",
   "execution_count": 15,
   "metadata": {},
   "outputs": [
    {
     "name": "stdout",
     "output_type": "stream",
     "text": [
      "['John Doe', 'Jane Smith', 'John Doe', 'Jane Smith', 'John Doe', 'Jane Smith', 'John Doe', 'Jane Smith', 'John Doe', 'Jane Smith', 'John Doe', 'Jane Smith', 'John Doe', 'Jane Smith', 'John Doe', 'Jane Smith', 'John Doe', 'Jane Smith', 'John Doe', 'Jane Smith', 'John Doe', 'Jane Smith', 'John Doe', 'Jane Smith', 'John Doe', 'Jane Smith', 'John Doe', 'Jane Smith', 'John Doe', 'Jane Smith', 'John Doe', 'Jane Smith', 'John Doe', 'Jane Smith', 'John Doe', 'Jane Smith', 'John Doe', 'Jane Smith', 'John Doe', 'Jane Smith', 'John Doe', 'Jane Smith', 'John Doe', 'Jane Smith', 'John Doe', 'Jane Smith', 'John Doe', 'Jane Smith', 'John Doe', 'Jane Smith', 'John Doe', 'Jane Smith', 'John Doe', 'Jane Smith', 'John Doe', 'Jane Smith', 'John Doe', 'Jane Smith', 'John Doe', 'Jane Smith', 'John Doe', 'Jane Smith', 'John Doe', 'Jane Smith', 'John Doe', 'Jane Smith', 'John Doe', 'Jane Smith', 'John Doe', 'Jane Smith', 'John Doe', 'Jane Smith', 'John Doe', 'Jane Smith', 'John Doe', 'Jane Smith', 'John Doe', 'Jane Smith', 'John Doe', 'Jane Smith', 'John Doe', 'Jane Smith', 'John Doe', 'Jane Smith', 'John Doe', 'Jane Smith', 'John Doe', 'Jane Smith', 'John Doe', 'Jane Smith', 'John Doe', 'Jane Smith', 'John Doe', 'Jane Smith', 'John Doe', 'Jane Smith', 'John Doe', 'Jane Smith', 'John Doe', 'Jane Smith', 'John Doe', 'Jane Smith', 'John Doe', 'Jane Smith', 'John Doe', 'Jane Smith', 'John Doe', 'Jane Smith', 'John Doe', 'Jane Smith', 'John Doe', 'Jane Smith', 'John Doe', 'Jane Smith', 'John Doe', 'Jane Smith', 'John Doe', 'Jane Smith', 'John Doe', 'Jane Smith', 'John Doe', 'Jane Smith', 'John Doe', 'Jane Smith', 'John Doe', 'Jane Smith', 'John Doe', 'Jane Smith', 'John Doe', 'Jane Smith', 'John Doe', 'Jane Smith', 'John Doe', 'Jane Smith', 'John Doe', 'Jane Smith', 'John Doe', 'Jane Smith', 'John Doe', 'Jane Smith', 'John Doe', 'Jane Smith', 'John Doe', 'Jane Smith', 'John Doe', 'Jane Smith', 'John Doe', 'Jane Smith', 'John Doe', 'Jane Smith', 'John Doe', 'Jane Smith', 'John Doe', 'Jane Smith', 'John Doe', 'Jane Smith', 'John Doe', 'Jane Smith', 'John Doe', 'Jane Smith', 'John Doe', 'Jane Smith', 'John Doe', 'Jane Smith', 'John Doe', 'Jane Smith', 'John Doe', 'Jane Smith', 'John Doe', 'Jane Smith', 'John Doe', 'Jane Smith', 'John Doe', 'Jane Smith', 'John Doe', 'Jane Smith', 'John Doe', 'Jane Smith', 'John Doe', 'Jane Smith', 'John Doe', 'Jane Smith', 'John Doe', 'Jane Smith', 'John Doe', 'Jane Smith', 'John Doe', 'Jane Smith', 'John Doe', 'Jane Smith', 'John Doe', 'Jane Smith', 'John Doe', 'Jane Smith', 'John Doe', 'Jane Smith', 'John Doe', 'Jane Smith', 'John Doe', 'Jane Smith']\n"
     ]
    }
   ],
   "source": [
    "def extract_names(text):\n",
    "  sentences = nltk.sent_tokenize(text)\n",
    "  names = []\n",
    "  for sentence in sentences:\n",
    "    tokens = nltk.word_tokenize(sentence)\n",
    "    pos_tags = nltk.pos_tag(tokens)\n",
    "    for chunk in nltk.ne_chunk(pos_tags):\n",
    "      if type(chunk) == nltk.Tree and chunk.label() == \"PERSON\":\n",
    "        names.append(\" \".join([c[0] for c in chunk.leaves()]))  # Extract text from chunk\n",
    "  return names\n",
    "\n",
    "text = \" \".join([\"This is John Doe. He met Jane Smith at the party.\"] * 100) \n",
    "names = extract_names(text)\n",
    "print(names)  # Output: ['John Doe', 'Jane Smith']"
   ]
  },
  {
   "cell_type": "code",
   "execution_count": null,
   "metadata": {},
   "outputs": [],
   "source": []
  }
 ],
 "metadata": {
  "kernelspec": {
   "display_name": "resume_parser",
   "language": "python",
   "name": "python3"
  },
  "language_info": {
   "codemirror_mode": {
    "name": "ipython",
    "version": 3
   },
   "file_extension": ".py",
   "mimetype": "text/x-python",
   "name": "python",
   "nbconvert_exporter": "python",
   "pygments_lexer": "ipython3",
   "version": "3.8.0"
  }
 },
 "nbformat": 4,
 "nbformat_minor": 2
}
